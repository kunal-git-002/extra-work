{
  "nbformat": 4,
  "nbformat_minor": 0,
  "metadata": {
    "colab": {
      "name": "Image_augmentation.ipynb",
      "provenance": [],
      "collapsed_sections": [],
      "mount_file_id": "18LcuT9FIseeMOoOdq2AHnLDsySRl4vGl",
      "authorship_tag": "ABX9TyN68a8Uzgb35aF2dHTacGZy",
      "include_colab_link": true
    },
    "kernelspec": {
      "name": "python3",
      "display_name": "Python 3"
    },
    "accelerator": "GPU"
  },
  "cells": [
    {
      "cell_type": "markdown",
      "metadata": {
        "id": "view-in-github",
        "colab_type": "text"
      },
      "source": [
        "<a href=\"https://colab.research.google.com/github/kunal-git-002/extra-work/blob/master/1_Image_augmentation.ipynb\" target=\"_parent\"><img src=\"https://colab.research.google.com/assets/colab-badge.svg\" alt=\"Open In Colab\"/></a>"
      ]
    },
    {
      "cell_type": "markdown",
      "metadata": {
        "id": "HIFc6jmPmGgC",
        "colab_type": "text"
      },
      "source": [
        "***Image Augmentation***"
      ]
    },
    {
      "cell_type": "markdown",
      "metadata": {
        "id": "v4wWcd6RmAfY",
        "colab_type": "text"
      },
      "source": [
        "***Image data generator***"
      ]
    },
    {
      "cell_type": "code",
      "metadata": {
        "id": "ONcdNDq8g2Gh",
        "colab_type": "code",
        "colab": {}
      },
      "source": [
        "import keras\n",
        "from keras.preprocessing.image import ImageDataGenerator,array_to_img,img_to_array,load_img\n"
      ],
      "execution_count": 4,
      "outputs": []
    },
    {
      "cell_type": "code",
      "metadata": {
        "id": "chPor-NviSsZ",
        "colab_type": "code",
        "colab": {}
      },
      "source": [
        "datagen=ImageDataGenerator(\n",
        "    rotation_range=40,\n",
        "    width_shift_range=0.2,\n",
        "    height_shift_range=0.2,\n",
        "    shear_range=0.2,\n",
        "    zoom_range=0.2,\n",
        "    horizontal_flip=True,\n",
        "    fill_mode=\"nearest\"\n",
        ")\n",
        "\n",
        "img=load_img(\"/content/drive/My Drive/face recognition/datas/known/bill_gates.jpg\")\n",
        "\n",
        "x=img_to_array(img)#numpy array with shape(3,255,255)\n",
        "x=x.reshape((1,)+x.shape)#numpy arr with shape(1,3,255,255)\n",
        "\n"
      ],
      "execution_count": 6,
      "outputs": []
    },
    {
      "cell_type": "code",
      "metadata": {
        "id": "v2iorXalkD2K",
        "colab_type": "code",
        "colab": {}
      },
      "source": [
        "i=0\n",
        "for batch in datagen.flow(x,\n",
        "                          batch_size=1,#at a time how many images are created\n",
        "                          save_to_dir=\"/content/drive/My Drive/CNN_prac/data/image augumentation\",\n",
        "                          save_prefix=\"gate\",\n",
        "                          save_format=\"jpeg\"):\n",
        "  print(batch)\n",
        "  \n",
        "  i+=1\n",
        "  if i>20:#i want only 20 imgs\n",
        "    break"
      ],
      "execution_count": null,
      "outputs": []
    },
    {
      "cell_type": "markdown",
      "metadata": {
        "id": "gdmAecFgl_LP",
        "colab_type": "text"
      },
      "source": [
        ""
      ]
    }
  ]
}