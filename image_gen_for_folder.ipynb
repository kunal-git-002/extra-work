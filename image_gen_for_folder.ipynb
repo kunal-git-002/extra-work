{
  "nbformat": 4,
  "nbformat_minor": 0,
  "metadata": {
    "colab": {
      "name": "Untitled3.ipynb",
      "provenance": [],
      "mount_file_id": "1zQsk6a4yb42fqdEnG_zQjc69x1glIo7e",
      "authorship_tag": "ABX9TyNuzzhnDUtyZWhspK2/dYWT",
      "include_colab_link": true
    },
    "kernelspec": {
      "name": "python3",
      "display_name": "Python 3"
    },
    "accelerator": "GPU"
  },
  "cells": [
    {
      "cell_type": "markdown",
      "metadata": {
        "id": "view-in-github",
        "colab_type": "text"
      },
      "source": [
        "<a href=\"https://colab.research.google.com/github/kunal-git-002/extra-work/blob/master/image_gen_for_folder.ipynb\" target=\"_parent\"><img src=\"https://colab.research.google.com/assets/colab-badge.svg\" alt=\"Open In Colab\"/></a>"
      ]
    },
    {
      "cell_type": "markdown",
      "metadata": {
        "id": "-0WT9iah8Wui",
        "colab_type": "text"
      },
      "source": [
        "***cat vs dog***"
      ]
    },
    {
      "cell_type": "code",
      "metadata": {
        "id": "47bszGHszsTi",
        "colab_type": "code",
        "colab": {}
      },
      "source": [
        "import numpy as np\n",
        "import matplotlib.pyplot as plt\n",
        "\n",
        "import cv2\n",
        "import os\n",
        "\n",
        "import keras\n",
        "from keras.preprocessing.image import ImageDataGenerator,array_to_img,img_to_array,load_img\n"
      ],
      "execution_count": 3,
      "outputs": []
    },
    {
      "cell_type": "code",
      "metadata": {
        "id": "9t55gyyQ--s1",
        "colab_type": "code",
        "colab": {}
      },
      "source": [
        "#for i in os.listdir(\"/content/drive/My Drive/CNN_prac/data/cat_vs_dog/cat\"):\n",
        "datagen=ImageDataGenerator(\n",
        "    rotation_range=40,\n",
        "    width_shift_range=0.25,\n",
        "    height_shift_range=0.25,\n",
        "    shear_range=0.25,\n",
        "    zoom_range=0.25,\n",
        "    horizontal_flip=True,\n",
        "    fill_mode=\"nearest\"\n",
        ")\n",
        "\n",
        "for i in os.listdir(\"/content/drive/My Drive/CNN_prac/data/cat_vs_dog/dog\"):\n",
        "\n",
        "  name=i.split(\".\")[0]\n",
        "\n",
        "  img=cv2.imread(\"/content/drive/My Drive/CNN_prac/data/cat_vs_dog/dog\"+\"/\"+i)\n",
        "\n",
        "  img=cv2.cvtColor(img,cv2.COLOR_BGR2RGB)\n",
        "  img=img.reshape((1,)+img.shape)\n",
        "\n",
        "  i=0\n",
        "  for batch in datagen.flow(img,\n",
        "                            batch_size=1,#at a time how many images are created\n",
        "                            save_to_dir=\"/content/drive/My Drive/CNN_prac/data/cat_vs_dog/dogs\",\n",
        "                            save_prefix=name,\n",
        "                            save_format=\"jpg\"):\n",
        "\n",
        "    \n",
        "    i+=1\n",
        "    if i>20:#i want only 20 imgs\n",
        "      break"
      ],
      "execution_count": 21,
      "outputs": []
    }
  ]
}